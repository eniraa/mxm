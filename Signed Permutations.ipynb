{
 "cells": [
  {
   "cell_type": "code",
   "execution_count": 28,
   "id": "41b79c04",
   "metadata": {},
   "outputs": [
    {
     "name": "stdout",
     "output_type": "stream",
     "text": [
      "[ 1  1  1  1  1]\n",
      "[ 1 -1 -1  1  1]\n",
      "[ 1 -1  1 -1  1]\n",
      "[ 1  1 -1 -1  1]\n",
      "[ 2  0  0  0 -2]\n"
     ]
    }
   ],
   "source": [
    "def Bn(n):\n",
    "    matrices = []\n",
    "    for P in Permutations(n):\n",
    "        for signs in cartesian_product([[-1, 1]]*n):\n",
    "            M = P.to_matrix()\n",
    "            for i in range(n):\n",
    "              col_loc = None\n",
    "              for j in range(len(P)):\n",
    "                if P(j+1) == i+1:\n",
    "                  col_loc = j\n",
    "              M[i, col_loc] *= signs[i]\n",
    "            matrices.append(M)\n",
    "    return (matrices)\n",
    "\n",
    "\n",
    "n = 2 \n",
    "G = Bn(n)\n",
    "\n",
    "matrix = MatrixGroup(G)\n",
    "\n",
    "table = matrix.character_table()\n",
    "print(table)"
   ]
  },
  {
   "cell_type": "code",
   "execution_count": 29,
   "id": "03dd0d30",
   "metadata": {},
   "outputs": [],
   "source": [
    "def signed_permutation_matrices(n):\n",
    "    from itertools import product, permutations\n",
    "    from sage.matrix.constructor import matrix\n",
    "\n",
    "    # Generate all combinations of -1 and 1 of length n\n",
    "    signs = list(product([-1, 1], repeat=n))\n",
    "\n",
    "    # Generate all permutations of the numbers 0 to n-1\n",
    "    perms = list(permutations(range(n)))\n",
    "\n",
    "    # Combine the signs and permutations to create the signed permutation matrices\n",
    "    matrices = [matrix(n, n, [s[p[i]] if j == p[i] else 0 for i in range(n) for j in range(n)]) for s in signs for p in perms]\n",
    "\n",
    "    return matrices\n",
    "\n",
    "G = signed_permutation_matrices(4)\n",
    "\n",
    "#matrix = MatrixGroup(G)\n",
    "\n",
    "#table = matrix.character_table()\n",
    "#table.str()"
   ]
  },
  {
   "cell_type": "code",
   "execution_count": null,
   "id": "67eddc63",
   "metadata": {},
   "outputs": [],
   "source": []
  }
 ],
 "metadata": {
  "kernelspec": {
   "display_name": "SageMath 10.2",
   "language": "sage",
   "name": "sagemath"
  },
  "language_info": {
   "codemirror_mode": {
    "name": "ipython",
    "version": 3
   },
   "file_extension": ".py",
   "mimetype": "text/x-python",
   "name": "python",
   "nbconvert_exporter": "python",
   "pygments_lexer": "ipython3",
   "version": "3.11.1"
  }
 },
 "nbformat": 4,
 "nbformat_minor": 5
}
