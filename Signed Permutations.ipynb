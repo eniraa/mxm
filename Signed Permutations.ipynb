{
 "cells": [
  {
   "cell_type": "code",
   "execution_count": 86,
   "id": "14a03e50",
   "metadata": {},
   "outputs": [
    {
     "data": {
      "text/plain": [
       "[ 1  1  1  1  1  1  1  1  1  1]\n",
       "[ 1  1 -1  1 -1  1 -1  1 -1 -1]\n",
       "[ 1  1 -1 -1  1 -1  1  1 -1  1]\n",
       "[ 1  1  1 -1 -1 -1 -1  1  1 -1]\n",
       "[ 2  2  0  0 -2  0  1 -1  0 -2]\n",
       "[ 2  2  0  0  2  0 -1 -1  0  2]\n",
       "[ 3 -1 -1  1 -1 -1  0  0  1  3]\n",
       "[ 3 -1 -1 -1  1  1  0  0  1 -3]\n",
       "[ 3 -1  1 -1 -1  1  0  0 -1  3]\n",
       "[ 3 -1  1  1  1 -1  0  0 -1 -3]"
      ]
     },
     "execution_count": 86,
     "metadata": {},
     "output_type": "execute_result"
    }
   ],
   "source": [
    "def better_bn(n):\n",
    "    from itertools import product, permutations\n",
    "    from sage.matrix.constructor import matrix\n",
    "\n",
    "    signs = list(product([-1, 1], repeat=n))\n",
    "    \n",
    "\n",
    "    perms = list(permutations(range(n)))\n",
    "\n",
    "    \n",
    "\n",
    "    matrices = [matrix(n, n, [s[p[i]] if j == p[i] else 0 for i in range(n) for j in range(n)]) for s in signs for p in perms]\n",
    "\n",
    "    return matrices\n",
    "\n",
    "G = better_bn(3)\n",
    "G\n",
    "matrix = MatrixGroup(G)\n",
    "\n",
    "\n",
    "\n",
    "table = matrix.character_table()\n",
    "table\n",
    "\n",
    " \n",
    "#below code used for large B_n, doesn't print properly with built-in commands\n",
    "    \n",
    "# for i in range(table.nrows()):\n",
    "#     for j in range(table.ncols()):\n",
    "#         print(table[i,j], end='  ')  # Adjust spacing as needed\n",
    "#     print()  # To move to the next line\n",
    "\n",
    "#table.str()"
   ]
  },
  {
   "cell_type": "code",
   "execution_count": 87,
   "id": "039300d2",
   "metadata": {},
   "outputs": [],
   "source": [
    "# def find_congruent_classes(char_table, p_m):\n",
    "#     # Get the number of rows and columns in the character table\n",
    "#     num_rows, num_cols = char_table.dimensions()\n",
    "\n",
    "#     # Initialize a dictionary to store the congruent classes\n",
    "#     congruent_classes = {}\n",
    "\n",
    "# #     # Initialize a set to store the indices of columns that have been added to the dictionary\n",
    "# #     added_columns = set()\n",
    "\n",
    "#     # Iterate over the columns of the character table\n",
    "#     for i in range(num_cols):\n",
    "# #         if i not in added_columns:\n",
    "#             for j in range(i+1, num_cols):\n",
    "#                 # Check if the two columns are congruent modulo p_m\n",
    "#                 if all((ZZ(char_table[k,i]) - ZZ(char_table[k,j])) % p_m == 0 for k in range(num_rows)):\n",
    "#                     # If they are, add them to the dictionary\n",
    "#                     if i not in congruent_classes:\n",
    "#                         congruent_classes[i] = [char_table.column(i)]\n",
    "# #                         added_columns.add(i)\n",
    "#                     congruent_classes[i].append(char_table.column(j))\n",
    "#                 else:\n",
    "#                     if i not in congruent_classes:\n",
    "#                         congruent_classes[i] = [char_table.column(i)]\n",
    "# #                     added_columns.add(j)\n",
    "\n",
    "\n",
    "\n",
    "#     # Return the dictionary of congruent classes\n",
    "#     return congruent_classes\n"
   ]
  },
  {
   "cell_type": "code",
   "execution_count": 88,
   "id": "1d37a740",
   "metadata": {},
   "outputs": [],
   "source": [
    "def find_congruent_classes_v2(G, char_table, p_m):\n",
    "    # Get the number of rows and columns in the character table\n",
    "    num_rows, num_cols = char_table.dimensions()\n",
    "\n",
    "    # Initialize a dictionary to store the congruent classes\n",
    "    congruent_classes = {}\n",
    "    \n",
    "    conjugacy_classes = G.conjugacy_classes()\n",
    "#     # Initialize a set to store the indices of columns that have been added to the dictionary\n",
    "#     added_columns = set()\n",
    "\n",
    "    # Iterate over the columns of the character table\n",
    "    for i in range(num_cols):\n",
    "#         if i not in added_columns:\n",
    "            for j in range(i+1, num_cols):\n",
    "                # Check if the two columns are congruent modulo p_m\n",
    "                if all((ZZ(char_table[k,i]) - ZZ(char_table[k,j])) % p_m == 0 for k in range(num_rows)):\n",
    "                    # If they are, add them to the dictionary\n",
    "                    if str(conjugacy_classes[i]) not in congruent_classes:\n",
    "                        congruent_classes[str(conjugacy_classes[i])] = [char_table.column(i)]\n",
    "#                         added_columns.add(i)\n",
    "                    congruent_classes[str(conjugacy_classes[i])].append(char_table.column(j))\n",
    "                else:\n",
    "                    if str(conjugacy_classes[i]) not in congruent_classes:\n",
    "                        congruent_classes[str(conjugacy_classes[i])] = [char_table.column(i)]\n",
    "#                     added_columns.add(j)\n",
    "\n",
    "\n",
    "\n",
    "    # Return the dictionary of congruent classes\n",
    "    return congruent_classes\n"
   ]
  },
  {
   "cell_type": "code",
   "execution_count": 89,
   "id": "98ae98ca",
   "metadata": {},
   "outputs": [
    {
     "name": "stdout",
     "output_type": "stream",
     "text": [
      "{'Conjugacy class of [1 0 0]\\n[0 1 0]\\n[0 0 1] in Matrix group over Integer Ring with 48 generators': [(1, 1, 1, 1, 2, 2, 3, 3, 3, 3), (1, 1, 1, 1, 2, 2, -1, -1, -1, -1), (1, -1, -1, 1, 0, 0, -1, -1, 1, 1), (1, 1, -1, -1, 0, 0, 1, -1, -1, 1), (1, -1, 1, -1, -2, 2, -1, 1, -1, 1), (1, 1, -1, -1, 0, 0, -1, 1, 1, -1), (1, -1, -1, 1, 0, 0, 1, 1, -1, -1), (1, -1, 1, -1, -2, 2, 3, -3, 3, -3)], 'Conjugacy class of [ 0 -1  0]\\n[ 0  0 -1]\\n[-1  0  0] in Matrix group over Integer Ring with 48 generators': [(1, -1, 1, -1, 1, -1, 0, 0, 0, 0), (1, 1, 1, 1, -1, -1, 0, 0, 0, 0)]}\n"
     ]
    }
   ],
   "source": [
    "p = 2\n",
    "m = 2\n",
    "\n",
    "result = find_congruent_classes_v2(matrix, table, 2)\n",
    "\n",
    "\n",
    "added_columns = set()\n",
    "toReturnDict = {}\n",
    "\n",
    "for key in result:\n",
    "    toReturnDict[key] = []\n",
    "    for column in result[key]:\n",
    "        if tuple(column) not in added_columns:\n",
    "            toReturnDict[key].append(column)\n",
    "            added_columns.add(tuple(column))\n",
    "\n",
    "clean_dict = {}\n",
    "\n",
    "for key in toReturnDict:\n",
    "    if toReturnDict[key] != []:\n",
    "        clean_dict[key] = toReturnDict[key]\n",
    "        \n",
    "print(clean_dict)\n"
   ]
  },
  {
   "cell_type": "code",
   "execution_count": null,
   "id": "5b815103",
   "metadata": {},
   "outputs": [],
   "source": []
  }
 ],
 "metadata": {
  "kernelspec": {
   "display_name": "SageMath 10.2",
   "language": "sage",
   "name": "sagemath"
  },
  "language_info": {
   "codemirror_mode": {
    "name": "ipython",
    "version": 3
   },
   "file_extension": ".py",
   "mimetype": "text/x-python",
   "name": "python",
   "nbconvert_exporter": "python",
   "pygments_lexer": "ipython3",
   "version": "3.11.1"
  }
 },
 "nbformat": 4,
 "nbformat_minor": 5
}
